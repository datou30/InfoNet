{
  "nbformat": 4,
  "nbformat_minor": 0,
  "metadata": {
    "colab": {
      "provenance": [],
      "gpuType": "T4"
    },
    "kernelspec": {
      "name": "python3",
      "display_name": "Python 3"
    },
    "language_info": {
      "name": "python"
    },
    "accelerator": "GPU"
  },
  "cells": [
    {
      "cell_type": "markdown",
      "source": [
        "This is an implementation of experiment on estimating MI of gaussian mixture distributions using google colab."
      ],
      "metadata": {
        "id": "ONIHcy95Zd01"
      }
    },
    {
      "cell_type": "code",
      "source": [
        "from google.colab import drive\n",
        "drive.mount('/content/drive')"
      ],
      "metadata": {
        "colab": {
          "base_uri": "https://localhost:8080/"
        },
        "id": "sFzMLqvNZUS7",
        "outputId": "fb4936a3-48c8-4be6-dc8b-ce4ee9f33b84"
      },
      "execution_count": 1,
      "outputs": [
        {
          "output_type": "stream",
          "name": "stdout",
          "text": [
            "Mounted at /content/drive\n"
          ]
        }
      ]
    },
    {
      "cell_type": "code",
      "source": [
        "import os\n",
        "## path to the root directory\n",
        "%cd /content/drive/MyDrive/InfoNet-main\n",
        "print(\"Current working directory:\", os.getcwd())"
      ],
      "metadata": {
        "colab": {
          "base_uri": "https://localhost:8080/"
        },
        "id": "J08QlUqsZ5NU",
        "outputId": "54bb58d0-4dd8-4ff5-8888-69026b52af06"
      },
      "execution_count": 2,
      "outputs": [
        {
          "output_type": "stream",
          "name": "stdout",
          "text": [
            "/content/drive/MyDrive/InfoNet-main\n",
            "Current working directory: /content/drive/MyDrive/InfoNet-main\n"
          ]
        }
      ]
    },
    {
      "cell_type": "markdown",
      "source": [
        "Import packages"
      ],
      "metadata": {
        "id": "cJkKBBRcgZwK"
      }
    },
    {
      "cell_type": "code",
      "source": [
        "import numpy as np\n",
        "import pickle\n",
        "from sklearn.mixture import GaussianMixture\n",
        "from sklearn.mixture._gaussian_mixture import _estimate_log_gaussian_prob, _compute_precision_cholesky, _estimate_gaussian_covariances_full\n",
        "from scipy.special import logsumexp\n",
        "import torch\n",
        "from model.decoder import Decoder\n",
        "from model.encoder import Encoder\n",
        "from model.infonet import infonet\n",
        "from model.query import Query_Gen_transformer\n",
        "from scipy.stats import rankdata"
      ],
      "metadata": {
        "id": "MGUuHGrPYUlP"
      },
      "execution_count": 3,
      "outputs": []
    },
    {
      "cell_type": "markdown",
      "source": [
        "Generate Gaussian Mixture distributions and compute mutual information using numerical integration."
      ],
      "metadata": {
        "id": "NVmvZImpgsbr"
      }
    },
    {
      "cell_type": "code",
      "source": [
        "def score_samples_marginal(X, gm, index):\n",
        "    ## Compute the log-likelihood of each sample for the marginal model,\n",
        "    ## in 1-D the Cholesky decomposition is simply the inverse sqrt of the variance\n",
        "    oned_cholesky = np.sqrt(1 / gm.covariances_[:, index, index]).reshape(-1, 1, 1)\n",
        "    marginal_logprob = _estimate_log_gaussian_prob(\n",
        "        X, gm.means_[:, index].reshape(-1, 1), oned_cholesky, gm.covariance_type\n",
        "    )\n",
        "    return logsumexp(np.log(gm.weights_) + marginal_logprob, axis=1)\n",
        "\n",
        "def gen_gmm_withmi(num_components, num_samples=1e7):\n",
        "    ## generate mixture of gaussian distributions with estimated mi\n",
        "    ## num_samples is used to estimate MI, the larger the more accurate estimation\n",
        "    num_components = num_components\n",
        "    weights = np.random.dirichlet(np.ones(num_components))\n",
        "\n",
        "    means = [np.random.uniform(-5, 5, size=2) for _ in range(num_components)]\n",
        "    covs = []\n",
        "    for _ in range(num_components):\n",
        "        A = np.random.uniform(-3, 3, size=(2, 2))\n",
        "        cov = np.dot(A, A.transpose()) + 0.01 * np.eye(2)\n",
        "        covs.append(cov)\n",
        "\n",
        "    gm = GaussianMixture(n_components=num_components)\n",
        "    gm.weights_ = np.array(weights)\n",
        "    gm.means_ = np.array(means)\n",
        "    gm.covariances_ = np.array(covs)\n",
        "\n",
        "    samples, labels = gm.sample(n_samples=num_samples)\n",
        "    samples = np.array(samples)\n",
        "\n",
        "    gm.precisions_cholesky_ = _compute_precision_cholesky(\n",
        "        gm.covariances_, gm.covariance_type\n",
        "    )\n",
        "\n",
        "    joint_xy = gm.score_samples(samples)\n",
        "    marginal_x = score_samples_marginal(samples[:, [0]], gm, index=0)\n",
        "    marginal_y = score_samples_marginal(samples[:, [1]], gm, index=1)\n",
        "\n",
        "    MI_xy = np.mean(joint_xy - marginal_x - marginal_y)\n",
        "    return gm, MI_xy"
      ],
      "metadata": {
        "id": "l2sLrCRegY0K"
      },
      "execution_count": 4,
      "outputs": []
    },
    {
      "cell_type": "code",
      "source": [
        "def infer(model, batch):\n",
        "    ### batch has shape [batchsize, seq_len, 2]\n",
        "    model.eval()\n",
        "    batch = torch.tensor(batch, dtype=torch.float32, device=device)\n",
        "    with torch.no_grad():\n",
        "\n",
        "        mi_lb = model(batch)\n",
        "        MI = torch.mean(mi_lb)\n",
        "\n",
        "    return MI.cpu().numpy()"
      ],
      "metadata": {
        "id": "cGGAIki6hOwN"
      },
      "execution_count": 5,
      "outputs": []
    },
    {
      "cell_type": "markdown",
      "source": [
        "Load checkpoint and do estimation."
      ],
      "metadata": {
        "id": "3gFT1YWPhyHt"
      }
    },
    {
      "cell_type": "code",
      "source": [
        "latent_dim = 256\n",
        "latent_num = 256\n",
        "input_dim = 2\n",
        "decoder_query_dim = 1000\n",
        "global device\n",
        "device = torch.device(\"cuda\" if torch.cuda.is_available() else \"cpu\")\n",
        "\n",
        "encoder = Encoder(\n",
        "    input_dim=input_dim,\n",
        "    latent_num=latent_num,\n",
        "    latent_dim=latent_dim,\n",
        "    cross_attn_heads=8,\n",
        "    self_attn_heads=16,\n",
        "    num_self_attn_per_block=8,\n",
        "    num_self_attn_blocks=1\n",
        ")\n",
        "\n",
        "decoder = Decoder(\n",
        "    q_dim=decoder_query_dim,\n",
        "    latent_dim=latent_dim,\n",
        ")\n",
        "\n",
        "query_gen = Query_Gen_transformer(\n",
        "    input_dim = input_dim,\n",
        "    dim = decoder_query_dim\n",
        ")\n",
        "\n",
        "model = infonet(encoder=encoder, decoder=decoder, query_gen = query_gen, decoder_query_dim = decoder_query_dim).to(device)\n",
        "ckpt_path = os.path.join('saved', 'uniform', 'model_5000_32_1000-720--0.16.pt')\n",
        "model.load_state_dict(torch.load(ckpt_path, map_location=device))\n",
        "\n",
        "num_components = 5\n",
        "for _ in range(5):\n",
        "    gm, mi = gen_gmm_withmi(num_components)\n",
        "    test_samples, labels = gm.sample(n_samples=5000)\n",
        "    test_samples[:, 0] = rankdata(test_samples[:, 0])/test_samples.shape[0]\n",
        "    test_samples[:, 1] = rankdata(test_samples[:, 1])/test_samples.shape[0]\n",
        "    test_samples = np.expand_dims(test_samples, axis=0)\n",
        "    est_mi = infer(model, test_samples)\n",
        "    print(\"estimate mutual information is: \", est_mi, \"real MI is \", mi  )"
      ],
      "metadata": {
        "colab": {
          "base_uri": "https://localhost:8080/"
        },
        "id": "x0x1ES0VhyWf",
        "outputId": "e8919b8c-5a26-4d8e-bf56-812fa87d99e7"
      },
      "execution_count": 9,
      "outputs": [
        {
          "output_type": "stream",
          "name": "stdout",
          "text": [
            "estimate mutual information is:  0.18136625 real MI is  0.19022208905210208\n",
            "estimate mutual information is:  1.149029 real MI is  1.4437751824472174\n",
            "estimate mutual information is:  0.17188396 real MI is  0.1896164911748182\n",
            "estimate mutual information is:  1.1733274 real MI is  1.4455624450894606\n",
            "estimate mutual information is:  0.37992275 real MI is  0.4112252589371608\n"
          ]
        }
      ]
    }
  ]
}